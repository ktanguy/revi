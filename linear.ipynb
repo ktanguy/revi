{
 "cells": [
  {
   "cell_type": "code",
   "execution_count": 3,
   "metadata": {},
   "outputs": [],
   "source": [
    "import numpy as np"
   ]
  },
  {
   "cell_type": "code",
   "execution_count": 4,
   "metadata": {},
   "outputs": [
    {
     "name": "stdout",
     "output_type": "stream",
     "text": [
      "(2, 2)\n",
      "(2,)\n"
     ]
    }
   ],
   "source": [
    "prices = [[300,500],\n",
    "[1000,120]]\n",
    "\n",
    "total = [9412.8, 18977.6]\n",
    "\n",
    "prices = np.array(prices)\n",
    "total = np.array(total)\n",
    "\n",
    "print(prices.shape)\n",
    "print(total.shape)"
   ]
  },
  {
   "cell_type": "code",
   "execution_count": 5,
   "metadata": {},
   "outputs": [
    {
     "name": "stdout",
     "output_type": "stream",
     "text": [
      "[18.01565517  8.0162069 ]\n"
     ]
    }
   ],
   "source": [
    "x = np.linalg.solve(prices, total)\n",
    "print(x)"
   ]
  },
  {
   "cell_type": "code",
   "execution_count": 11,
   "metadata": {},
   "outputs": [
    {
     "name": "stdout",
     "output_type": "stream",
     "text": [
      "300\n",
      "500\n",
      "1000\n",
      "120\n",
      "300\n"
     ]
    }
   ],
   "source": [
    "#printing every element using a loop\n",
    "for i in range(len(prices)):\n",
    "    for j in range(len(prices[i])):\n",
    "        print(prices[i][j])\n",
    "    \n",
    "#print(prices[0][0])"
   ]
  }
 ],
 "metadata": {
  "kernelspec": {
   "display_name": "Python 3",
   "language": "python",
   "name": "python3"
  },
  "language_info": {
   "codemirror_mode": {
    "name": "ipython",
    "version": 3
   },
   "file_extension": ".py",
   "mimetype": "text/x-python",
   "name": "python",
   "nbconvert_exporter": "python",
   "pygments_lexer": "ipython3",
   "version": "3.12.2"
  }
 },
 "nbformat": 4,
 "nbformat_minor": 2
}
